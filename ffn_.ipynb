{
 "cells": [
  {
   "cell_type": "markdown",
   "id": "efcbd39007c5be07",
   "metadata": {
    "collapsed": false
   },
   "source": [
    "# Grokking with a simple model on modular addition\n",
    "\n",
    "## Preliminaries\n",
    "\n",
    "Imports and set the CUDA device"
   ]
  },
  {
   "cell_type": "code",
   "execution_count": 1,
   "id": "initial_id",
   "metadata": {
    "ExecuteTime": {
     "end_time": "2023-09-10T08:22:36.037958100Z",
     "start_time": "2023-09-10T08:22:31.838960600Z"
    },
    "collapsed": true
   },
   "outputs": [
    {
     "name": "stdout",
     "output_type": "stream",
     "text": [
      "Using CPU\n"
     ]
    }
   ],
   "source": [
    "import numpy as np\n",
    "import matplotlib.pyplot as plt\n",
    "import torch \n",
    "import random\n",
    "import torch.nn as nn\n",
    "import torch.nn.functional as F\n",
    "import os\n",
    "import sys\n",
    "\n",
    "device = \"cpu\"\n",
    "if torch.cuda.is_available():\n",
    "    device = \"cuda\"\n",
    "    print(\"Using GPU\", torch.cuda.get_device_name(0))\n",
    "else:\n",
    "    print(\"Using CPU\")"
   ]
  },
  {
   "cell_type": "code",
   "execution_count": 2,
   "id": "12b0353ea84afdaf",
   "metadata": {
    "ExecuteTime": {
     "end_time": "2023-09-10T08:22:36.038958800Z",
     "start_time": "2023-09-10T08:22:36.032961Z"
    },
    "collapsed": false
   },
   "outputs": [],
   "source": [
    "# Seed for reproducability\n",
    "SEED = 100\n",
    "\n",
    "def set_seed(seed_value):\n",
    "    random.seed(seed_value)\n",
    "    np.random.seed(seed_value)\n",
    "    torch.manual_seed(seed_value)\n",
    "    \n",
    "    if torch.cuda.is_available():\n",
    "        torch.cuda.manual_seed(seed_value)\n",
    "        torch.cuda.manual_seed_all(seed_value)\n",
    "        torch.backends.cudnn.deterministic = True\n",
    "        torch.backends.cudnn.benchmark = False"
   ]
  },
  {
   "cell_type": "markdown",
   "id": "add88fdc0c2d73b8",
   "metadata": {
    "collapsed": false
   },
   "source": [
    "## Building the dataset\n",
    "Define the dataset : addition modulo P, with a random split into train and test sets, and dataloaders with batch size"
   ]
  },
  {
   "cell_type": "code",
   "execution_count": 3,
   "id": "ed05f9ebdfaa2afd",
   "metadata": {
    "ExecuteTime": {
     "end_time": "2023-09-10T08:22:36.150963500Z",
     "start_time": "2023-09-10T08:22:36.042960Z"
    },
    "collapsed": false
   },
   "outputs": [],
   "source": [
    "# Select a Prime Number\n",
    "P = 59\n",
    "\n",
    "# Create the dataset\n",
    "set_seed(SEED)\n",
    "add_data = []\n",
    "for i in range(P):\n",
    "    for j in range(P):\n",
    "        add_data.append([i,j,(i+j)%P])\n",
    "\n",
    "data = np.array(add_data)"
   ]
  },
  {
   "cell_type": "code",
   "execution_count": 4,
   "metadata": {},
   "outputs": [],
   "source": [
    "# Split into train and test\n",
    "TRAIN_FRACTION = 0.5\n",
    "np.random.shuffle(data)\n",
    "train_data = data[:int(len(data) * TRAIN_FRACTION)]\n",
    "test_data = data[int(len(data) * TRAIN_FRACTION):]\n",
    "\n",
    "# Convert to tensors and create dataloaders with batch size\n",
    "BATCH_SIZE = 32\n",
    "train_data = torch.tensor(train_data, dtype=torch.long, device=device)\n",
    "test_data = torch.tensor(test_data, dtype=torch.long, device=device)\n",
    "train_loader = torch.utils.data.DataLoader(train_data, batch_size=BATCH_SIZE, shuffle=True)\n",
    "test_loader = torch.utils.data.DataLoader(test_data, batch_size=BATCH_SIZE, shuffle=False)"
   ]
  },
  {
   "cell_type": "markdown",
   "id": "e751821557467ed5",
   "metadata": {
    "collapsed": false
   },
   "source": [
    "## Training\n",
    "We use AdamW with weight decay, and cross entropy loss for FFN"
   ]
  },
  {
   "cell_type": "code",
   "execution_count": 5,
   "id": "37a93a60a2704aa6",
   "metadata": {
    "ExecuteTime": {
     "end_time": "2023-09-10T08:44:49.780959Z",
     "start_time": "2023-09-10T08:22:37.168961500Z"
    },
    "collapsed": false
   },
   "outputs": [
    {
     "name": "stdout",
     "output_type": "stream",
     "text": [
      "batch.shape:torch.Size([32, 3]), x1:tensor([28, 22,  5, 16, 26,  8, 31, 52, 49,  9, 21, 30, 52, 56, 37, 35, 22,  1,\n",
      "        21, 52,  5, 20, 54, 53,  1, 15, 46, 11, 34, 34,  5, 36]), x2:tensor([18, 47, 53, 41, 54, 32, 50, 51,  7, 31, 55, 41, 13, 38, 17, 12, 57, 44,\n",
      "        56, 40, 27, 24, 15, 29, 58, 40, 54, 34,  8, 56, 42,  8]), y:tensor([46, 10, 58, 57, 21, 40, 22, 44, 56, 40, 17, 12,  6, 35, 54, 47, 20, 45,\n",
      "        18, 33, 32, 44, 10, 23,  0, 55, 41, 45, 42, 31, 47, 44])\n",
      "Shapes: x1:torch.Size([32])\n",
      "Output Shape: torch.Size([32, 59])\n",
      "Output: tensor([[ 0.0642, -0.0324,  0.0642,  ..., -0.0698,  0.0648,  0.1039],\n",
      "        [-0.0255,  0.0580, -0.0122,  ...,  0.0120,  0.1576,  0.0299],\n",
      "        [-0.0998, -0.0511, -0.1081,  ...,  0.0864,  0.1205,  0.0133],\n",
      "        ...,\n",
      "        [ 0.1364, -0.0634, -0.0098,  ..., -0.0625,  0.1398,  0.0004],\n",
      "        [-0.1323, -0.0053, -0.0028,  ...,  0.0453,  0.0709, -0.0551],\n",
      "        [ 0.0420,  0.0440, -0.0992,  ..., -0.0467,  0.0429,  0.0066]],\n",
      "       grad_fn=<AddmmBackward0>)\n",
      "torch.Size([32])\n"
     ]
    }
   ],
   "source": [
    "NB_EPOCHS = 5000\n",
    "LEARNING_RATE = 0.0003\n",
    "WEIGHT_DECAY = 1\n",
    "from rnn import RNN\n",
    "from ffn import FFN\n",
    "from attention import FFNAttention\n",
    "\n",
    "set_seed(SEED)\n",
    "# model = RNN().to(device)\n",
    "model = FFN().to(device)\n",
    "# model = FFNAttention().to(device)\n",
    "\n",
    "\n",
    "criterion = nn.CrossEntropyLoss()\n",
    "optimizer = torch.optim.AdamW(model.parameters(), lr=LEARNING_RATE, weight_decay=WEIGHT_DECAY)\n",
    "\n",
    "# Recording\n",
    "REPORT_INTERVAL = 20    # How often we print\n",
    "SAVE_INTERVAL = 50      # How often we save\n",
    "model_folder = 'intermediary'\n",
    "# Create folder if it doesn't exist\n",
    "if not os.path.exists(model_folder):\n",
    "    os.makedirs(model_folder)\n",
    "\n",
    "train_loss_history = []\n",
    "train_acc_history = []\n",
    "test_loss_history = []\n",
    "test_acc_history = []\n",
    "\n",
    "for epoch in range(NB_EPOCHS):\n",
    "    \n",
    "    # Training phase\n",
    "    model.train()\n",
    "    train_loss = 0.0\n",
    "    train_acc = 0.0\n",
    "    for batch in train_loader:\n",
    "        x1, x2, y = batch[:,0], batch[:,1], batch[:,2]\n",
    "        print(f'batch.shape:{batch.shape}, x1:{batch[:,0]}, x2:{batch[:,1]}, y:{batch[:,2]}')\n",
    "        print(f'Shapes: x1:{batch[:,0].shape}')\n",
    "        output = model(x1,x2)\n",
    "        print(f'Output Shape: {output.shape}\\nOutput: {output}')\n",
    "        print(y.shape)\n",
    "        break\n",
    "        loss = criterion(output, y)\n",
    "        loss.backward()\n",
    "        optimizer.step()\n",
    "        train_loss += loss.item()\n",
    "        train_acc += (output.argmax(dim=1) == y).sum().item()\n",
    "    break\n",
    "\n",
    "    train_loss /= len(train_loader)\n",
    "    train_loss_history.append(train_loss)\n",
    "    train_acc /= len(train_data)\n",
    "    train_acc_history.append(train_acc)\n",
    "    \n",
    "    # Testing phase\n",
    "    model.eval()\n",
    "    with torch.no_grad():\n",
    "        test_loss = 0.0\n",
    "        test_acc = 0.0\n",
    "        for batch in test_loader:\n",
    "            x1, x2, y = batch[:,0], batch[:,1], batch[:,2]\n",
    "            output = model(x1,x2)\n",
    "            loss = criterion(output, y)\n",
    "            test_loss += loss.item()\n",
    "            test_acc += (output.argmax(dim=1) == y).sum().item()\n",
    "        \n",
    "        test_loss /= len(test_loader)\n",
    "        test_loss_history.append(test_loss)\n",
    "        test_acc /= len(test_data)\n",
    "        test_acc_history.append(test_acc)\n",
    "        \n",
    "    if epoch % REPORT_INTERVAL == 0:\n",
    "        print(f\"{epoch}/{NB_EPOCHS}: Train loss={train_loss:.4f}, acc={100*train_acc:.1f}%  /  Test loss={test_loss:.4f}, acc={100*test_acc:.1f}%\")\n",
    "    \n",
    "    if epoch % SAVE_INTERVAL == 0:\n",
    "        # Save model in intermediary folder\n",
    "        torch.save(model.state_dict(), f\"{model_folder}/model_{epoch}.pth\")\n",
    "        \n",
    "torch.save(model.state_dict(), f\"model.pth\")"
   ]
  },
  {
   "cell_type": "code",
   "execution_count": 6,
   "metadata": {},
   "outputs": [],
   "source": [
    "torch.save(model.state_dict(), f\"model.pth\")"
   ]
  },
  {
   "cell_type": "markdown",
   "id": "8aedc53022c5f3f6",
   "metadata": {
    "collapsed": false
   },
   "source": [
    "## Results"
   ]
  },
  {
   "cell_type": "markdown",
   "id": "e82a16aa14e9bc68",
   "metadata": {
    "collapsed": false
   },
   "source": [
    "Plot the evolution of accuracy and loss during training"
   ]
  },
  {
   "cell_type": "code",
   "execution_count": 7,
   "id": "34c7acfb2e0207ca",
   "metadata": {
    "ExecuteTime": {
     "end_time": "2023-09-10T08:44:51.870463200Z",
     "start_time": "2023-09-10T08:44:49.787961300Z"
    },
    "collapsed": false
   },
   "outputs": [
    {
     "ename": "ValueError",
     "evalue": "x and y must have same first dimension, but have shapes (5000,) and (0,)",
     "output_type": "error",
     "traceback": [
      "\u001b[0;31m---------------------------------------------------------------------------\u001b[0m",
      "\u001b[0;31mValueError\u001b[0m                                Traceback (most recent call last)",
      "\u001b[1;32m/Users/samin/Desktop/Classes/9.58 Project/ffn_.ipynb Cell 12\u001b[0m line \u001b[0;36m5\n\u001b[1;32m      <a href='vscode-notebook-cell:/Users/samin/Desktop/Classes/9.58%20Project/ffn_.ipynb#X14sZmlsZQ%3D%3D?line=2'>3</a>\u001b[0m \u001b[39m# Loss\u001b[39;00m\n\u001b[1;32m      <a href='vscode-notebook-cell:/Users/samin/Desktop/Classes/9.58%20Project/ffn_.ipynb#X14sZmlsZQ%3D%3D?line=3'>4</a>\u001b[0m plt\u001b[39m.\u001b[39mfigure(figsize\u001b[39m=\u001b[39m(\u001b[39m10\u001b[39m, \u001b[39m5\u001b[39m))\n\u001b[0;32m----> <a href='vscode-notebook-cell:/Users/samin/Desktop/Classes/9.58%20Project/ffn_.ipynb#X14sZmlsZQ%3D%3D?line=4'>5</a>\u001b[0m plt\u001b[39m.\u001b[39;49mplot(\u001b[39mrange\u001b[39;49m(\u001b[39m1\u001b[39;49m, NB_EPOCHS \u001b[39m+\u001b[39;49m \u001b[39m1\u001b[39;49m), train_loss_history, label\u001b[39m=\u001b[39;49m\u001b[39m'\u001b[39;49m\u001b[39mTrain Loss\u001b[39;49m\u001b[39m'\u001b[39;49m)\n\u001b[1;32m      <a href='vscode-notebook-cell:/Users/samin/Desktop/Classes/9.58%20Project/ffn_.ipynb#X14sZmlsZQ%3D%3D?line=5'>6</a>\u001b[0m plt\u001b[39m.\u001b[39mplot(\u001b[39mrange\u001b[39m(\u001b[39m1\u001b[39m, NB_EPOCHS \u001b[39m+\u001b[39m \u001b[39m1\u001b[39m), test_loss_history, label\u001b[39m=\u001b[39m\u001b[39m'\u001b[39m\u001b[39mTest Loss\u001b[39m\u001b[39m'\u001b[39m)\n\u001b[1;32m      <a href='vscode-notebook-cell:/Users/samin/Desktop/Classes/9.58%20Project/ffn_.ipynb#X14sZmlsZQ%3D%3D?line=6'>7</a>\u001b[0m plt\u001b[39m.\u001b[39mxlabel(\u001b[39m'\u001b[39m\u001b[39mEpoch\u001b[39m\u001b[39m'\u001b[39m)\n",
      "File \u001b[0;32m/Library/Frameworks/Python.framework/Versions/3.10/lib/python3.10/site-packages/matplotlib/pyplot.py:2812\u001b[0m, in \u001b[0;36mplot\u001b[0;34m(scalex, scaley, data, *args, **kwargs)\u001b[0m\n\u001b[1;32m   2810\u001b[0m \u001b[39m@_copy_docstring_and_deprecators\u001b[39m(Axes\u001b[39m.\u001b[39mplot)\n\u001b[1;32m   2811\u001b[0m \u001b[39mdef\u001b[39;00m \u001b[39mplot\u001b[39m(\u001b[39m*\u001b[39margs, scalex\u001b[39m=\u001b[39m\u001b[39mTrue\u001b[39;00m, scaley\u001b[39m=\u001b[39m\u001b[39mTrue\u001b[39;00m, data\u001b[39m=\u001b[39m\u001b[39mNone\u001b[39;00m, \u001b[39m*\u001b[39m\u001b[39m*\u001b[39mkwargs):\n\u001b[0;32m-> 2812\u001b[0m     \u001b[39mreturn\u001b[39;00m gca()\u001b[39m.\u001b[39;49mplot(\n\u001b[1;32m   2813\u001b[0m         \u001b[39m*\u001b[39;49margs, scalex\u001b[39m=\u001b[39;49mscalex, scaley\u001b[39m=\u001b[39;49mscaley,\n\u001b[1;32m   2814\u001b[0m         \u001b[39m*\u001b[39;49m\u001b[39m*\u001b[39;49m({\u001b[39m\"\u001b[39;49m\u001b[39mdata\u001b[39;49m\u001b[39m\"\u001b[39;49m: data} \u001b[39mif\u001b[39;49;00m data \u001b[39mis\u001b[39;49;00m \u001b[39mnot\u001b[39;49;00m \u001b[39mNone\u001b[39;49;00m \u001b[39melse\u001b[39;49;00m {}), \u001b[39m*\u001b[39;49m\u001b[39m*\u001b[39;49mkwargs)\n",
      "File \u001b[0;32m/Library/Frameworks/Python.framework/Versions/3.10/lib/python3.10/site-packages/matplotlib/axes/_axes.py:1688\u001b[0m, in \u001b[0;36mAxes.plot\u001b[0;34m(self, scalex, scaley, data, *args, **kwargs)\u001b[0m\n\u001b[1;32m   1445\u001b[0m \u001b[39m\u001b[39m\u001b[39m\"\"\"\u001b[39;00m\n\u001b[1;32m   1446\u001b[0m \u001b[39mPlot y versus x as lines and/or markers.\u001b[39;00m\n\u001b[1;32m   1447\u001b[0m \n\u001b[0;32m   (...)\u001b[0m\n\u001b[1;32m   1685\u001b[0m \u001b[39m(``'green'``) or hex strings (``'#008000'``).\u001b[39;00m\n\u001b[1;32m   1686\u001b[0m \u001b[39m\"\"\"\u001b[39;00m\n\u001b[1;32m   1687\u001b[0m kwargs \u001b[39m=\u001b[39m cbook\u001b[39m.\u001b[39mnormalize_kwargs(kwargs, mlines\u001b[39m.\u001b[39mLine2D)\n\u001b[0;32m-> 1688\u001b[0m lines \u001b[39m=\u001b[39m [\u001b[39m*\u001b[39m\u001b[39mself\u001b[39m\u001b[39m.\u001b[39m_get_lines(\u001b[39m*\u001b[39margs, data\u001b[39m=\u001b[39mdata, \u001b[39m*\u001b[39m\u001b[39m*\u001b[39mkwargs)]\n\u001b[1;32m   1689\u001b[0m \u001b[39mfor\u001b[39;00m line \u001b[39min\u001b[39;00m lines:\n\u001b[1;32m   1690\u001b[0m     \u001b[39mself\u001b[39m\u001b[39m.\u001b[39madd_line(line)\n",
      "File \u001b[0;32m/Library/Frameworks/Python.framework/Versions/3.10/lib/python3.10/site-packages/matplotlib/axes/_base.py:311\u001b[0m, in \u001b[0;36m_process_plot_var_args.__call__\u001b[0;34m(self, data, *args, **kwargs)\u001b[0m\n\u001b[1;32m    309\u001b[0m     this \u001b[39m+\u001b[39m\u001b[39m=\u001b[39m args[\u001b[39m0\u001b[39m],\n\u001b[1;32m    310\u001b[0m     args \u001b[39m=\u001b[39m args[\u001b[39m1\u001b[39m:]\n\u001b[0;32m--> 311\u001b[0m \u001b[39myield from\u001b[39;00m \u001b[39mself\u001b[39;49m\u001b[39m.\u001b[39;49m_plot_args(\n\u001b[1;32m    312\u001b[0m     this, kwargs, ambiguous_fmt_datakey\u001b[39m=\u001b[39;49mambiguous_fmt_datakey)\n",
      "File \u001b[0;32m/Library/Frameworks/Python.framework/Versions/3.10/lib/python3.10/site-packages/matplotlib/axes/_base.py:504\u001b[0m, in \u001b[0;36m_process_plot_var_args._plot_args\u001b[0;34m(self, tup, kwargs, return_kwargs, ambiguous_fmt_datakey)\u001b[0m\n\u001b[1;32m    501\u001b[0m     \u001b[39mself\u001b[39m\u001b[39m.\u001b[39maxes\u001b[39m.\u001b[39myaxis\u001b[39m.\u001b[39mupdate_units(y)\n\u001b[1;32m    503\u001b[0m \u001b[39mif\u001b[39;00m x\u001b[39m.\u001b[39mshape[\u001b[39m0\u001b[39m] \u001b[39m!=\u001b[39m y\u001b[39m.\u001b[39mshape[\u001b[39m0\u001b[39m]:\n\u001b[0;32m--> 504\u001b[0m     \u001b[39mraise\u001b[39;00m \u001b[39mValueError\u001b[39;00m(\u001b[39mf\u001b[39m\u001b[39m\"\u001b[39m\u001b[39mx and y must have same first dimension, but \u001b[39m\u001b[39m\"\u001b[39m\n\u001b[1;32m    505\u001b[0m                      \u001b[39mf\u001b[39m\u001b[39m\"\u001b[39m\u001b[39mhave shapes \u001b[39m\u001b[39m{\u001b[39;00mx\u001b[39m.\u001b[39mshape\u001b[39m}\u001b[39;00m\u001b[39m and \u001b[39m\u001b[39m{\u001b[39;00my\u001b[39m.\u001b[39mshape\u001b[39m}\u001b[39;00m\u001b[39m\"\u001b[39m)\n\u001b[1;32m    506\u001b[0m \u001b[39mif\u001b[39;00m x\u001b[39m.\u001b[39mndim \u001b[39m>\u001b[39m \u001b[39m2\u001b[39m \u001b[39mor\u001b[39;00m y\u001b[39m.\u001b[39mndim \u001b[39m>\u001b[39m \u001b[39m2\u001b[39m:\n\u001b[1;32m    507\u001b[0m     \u001b[39mraise\u001b[39;00m \u001b[39mValueError\u001b[39;00m(\u001b[39mf\u001b[39m\u001b[39m\"\u001b[39m\u001b[39mx and y can be no greater than 2D, but have \u001b[39m\u001b[39m\"\u001b[39m\n\u001b[1;32m    508\u001b[0m                      \u001b[39mf\u001b[39m\u001b[39m\"\u001b[39m\u001b[39mshapes \u001b[39m\u001b[39m{\u001b[39;00mx\u001b[39m.\u001b[39mshape\u001b[39m}\u001b[39;00m\u001b[39m and \u001b[39m\u001b[39m{\u001b[39;00my\u001b[39m.\u001b[39mshape\u001b[39m}\u001b[39;00m\u001b[39m\"\u001b[39m)\n",
      "\u001b[0;31mValueError\u001b[0m: x and y must have same first dimension, but have shapes (5000,) and (0,)"
     ]
    },
    {
     "data": {
      "image/png": "[encoded data removed]",
      "text/plain": [
       "<Figure size 1000x500 with 1 Axes>"
      ]
     },
     "metadata": {},
     "output_type": "display_data"
    }
   ],
   "source": [
    "NB_EPOCH_PLOT = 2500\n",
    "\n",
    "# Loss\n",
    "plt.figure(figsize=(10, 5))\n",
    "plt.plot(range(1, NB_EPOCHS + 1), train_loss_history, label='Train Loss')\n",
    "plt.plot(range(1, NB_EPOCHS + 1), test_loss_history, label='Test Loss')\n",
    "plt.xlabel('Epoch')\n",
    "plt.ylabel('Log(Loss)')\n",
    "plt.yscale('log')\n",
    "plt.legend()\n",
    "plt.savefig('loss.png', dpi=300)\n",
    "plt.xlim(0,NB_EPOCH_PLOT)\n",
    "plt.savefig('loss_zoom.png', dpi=300)\n",
    "\n",
    "\n",
    "# Accuracy\n",
    "plt.figure(figsize=(10, 5))\n",
    "plt.plot(range(1, NB_EPOCHS + 1), train_acc_history, label='Train Accuracy')\n",
    "plt.plot(range(1, NB_EPOCHS + 1), test_acc_history, label='Test Accuracy')\n",
    "plt.xlabel('Epoch')\n",
    "plt.ylabel('Accuracy')\n",
    "plt.legend()\n",
    "plt.savefig('accuracy.png', dpi=300)\n",
    "plt.xlim(0,NB_EPOCH_PLOT)\n",
    "plt.savefig('accuracy_zoom.png', dpi=300)"
   ]
  }
 ],
 "metadata": {
  "kernelspec": {
   "display_name": "Python 3",
   "language": "python",
   "name": "python3"
  },
  "language_info": {
   "codemirror_mode": {
    "name": "ipython",
    "version": 3
   },
   "file_extension": ".py",
   "mimetype": "text/x-python",
   "name": "python",
   "nbconvert_exporter": "python",
   "pygments_lexer": "ipython3",
   "version": "3.10.0"
  }
 },
 "nbformat": 4,
 "nbformat_minor": 5
}
